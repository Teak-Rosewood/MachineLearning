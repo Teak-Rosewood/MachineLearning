{
 "cells": [
  {
   "cell_type": "code",
   "execution_count": 1,
   "metadata": {},
   "outputs": [],
   "source": [
    "import pandas as pd\n",
    "import numpy as np\n",
    "from sklearn.model_selection import train_test_split\n",
    "from sklearn.datasets import fetch_openml\n",
    "from NN import NLayerNetwork"
   ]
  },
  {
   "cell_type": "code",
   "execution_count": 2,
   "metadata": {},
   "outputs": [
    {
     "data": {
      "text/html": [
       "<div>\n",
       "<style scoped>\n",
       "    .dataframe tbody tr th:only-of-type {\n",
       "        vertical-align: middle;\n",
       "    }\n",
       "\n",
       "    .dataframe tbody tr th {\n",
       "        vertical-align: top;\n",
       "    }\n",
       "\n",
       "    .dataframe thead th {\n",
       "        text-align: right;\n",
       "    }\n",
       "</style>\n",
       "<table border=\"1\" class=\"dataframe\">\n",
       "  <thead>\n",
       "    <tr style=\"text-align: right;\">\n",
       "      <th></th>\n",
       "      <th>pclass</th>\n",
       "      <th>survived</th>\n",
       "      <th>sex</th>\n",
       "      <th>age</th>\n",
       "      <th>sibsp</th>\n",
       "      <th>parch</th>\n",
       "      <th>fare</th>\n",
       "      <th>cabin</th>\n",
       "      <th>embarked</th>\n",
       "      <th>boat</th>\n",
       "      <th>body</th>\n",
       "    </tr>\n",
       "  </thead>\n",
       "  <tbody>\n",
       "    <tr>\n",
       "      <th>0</th>\n",
       "      <td>1</td>\n",
       "      <td>1</td>\n",
       "      <td>0</td>\n",
       "      <td>29.0000</td>\n",
       "      <td>0</td>\n",
       "      <td>0</td>\n",
       "      <td>211.3375</td>\n",
       "      <td>0</td>\n",
       "      <td>0</td>\n",
       "      <td>0</td>\n",
       "      <td>160.809917</td>\n",
       "    </tr>\n",
       "    <tr>\n",
       "      <th>1</th>\n",
       "      <td>1</td>\n",
       "      <td>1</td>\n",
       "      <td>1</td>\n",
       "      <td>0.9167</td>\n",
       "      <td>1</td>\n",
       "      <td>2</td>\n",
       "      <td>151.5500</td>\n",
       "      <td>1</td>\n",
       "      <td>0</td>\n",
       "      <td>1</td>\n",
       "      <td>160.809917</td>\n",
       "    </tr>\n",
       "    <tr>\n",
       "      <th>2</th>\n",
       "      <td>1</td>\n",
       "      <td>0</td>\n",
       "      <td>0</td>\n",
       "      <td>2.0000</td>\n",
       "      <td>1</td>\n",
       "      <td>2</td>\n",
       "      <td>151.5500</td>\n",
       "      <td>1</td>\n",
       "      <td>0</td>\n",
       "      <td>2</td>\n",
       "      <td>160.809917</td>\n",
       "    </tr>\n",
       "    <tr>\n",
       "      <th>3</th>\n",
       "      <td>1</td>\n",
       "      <td>0</td>\n",
       "      <td>1</td>\n",
       "      <td>30.0000</td>\n",
       "      <td>1</td>\n",
       "      <td>2</td>\n",
       "      <td>151.5500</td>\n",
       "      <td>1</td>\n",
       "      <td>0</td>\n",
       "      <td>2</td>\n",
       "      <td>135.000000</td>\n",
       "    </tr>\n",
       "    <tr>\n",
       "      <th>4</th>\n",
       "      <td>1</td>\n",
       "      <td>0</td>\n",
       "      <td>0</td>\n",
       "      <td>25.0000</td>\n",
       "      <td>1</td>\n",
       "      <td>2</td>\n",
       "      <td>151.5500</td>\n",
       "      <td>1</td>\n",
       "      <td>0</td>\n",
       "      <td>2</td>\n",
       "      <td>160.809917</td>\n",
       "    </tr>\n",
       "  </tbody>\n",
       "</table>\n",
       "</div>"
      ],
      "text/plain": [
       "   pclass  survived  sex      age  sibsp  parch      fare  cabin  embarked  \\\n",
       "0       1         1    0  29.0000      0      0  211.3375      0         0   \n",
       "1       1         1    1   0.9167      1      2  151.5500      1         0   \n",
       "2       1         0    0   2.0000      1      2  151.5500      1         0   \n",
       "3       1         0    1  30.0000      1      2  151.5500      1         0   \n",
       "4       1         0    0  25.0000      1      2  151.5500      1         0   \n",
       "\n",
       "   boat        body  \n",
       "0     0  160.809917  \n",
       "1     1  160.809917  \n",
       "2     2  160.809917  \n",
       "3     2  135.000000  \n",
       "4     2  160.809917  "
      ]
     },
     "execution_count": 2,
     "metadata": {},
     "output_type": "execute_result"
    }
   ],
   "source": [
    "df = pd.read_excel('titanic.xls')\n",
    "columns_to_drop = ['name','ticket', 'home.dest']\n",
    "df = df.drop(columns_to_drop, axis=1)\n",
    "\n",
    "df['embarked'] = pd.factorize(df['embarked'])[0]\n",
    "\n",
    "df['cabin'] = df['cabin'].fillna(df['cabin'].mode())\n",
    "df['cabin'] = pd.factorize(df['cabin'])[0]\n",
    "\n",
    "df['sex'].value_counts(dropna=False)\n",
    "df['sex'] = df['sex'].map(lambda x: 1 if x == 'male' else 0)\n",
    "df['sex'].value_counts()\n",
    "\n",
    "df['fare'] = df['fare'].fillna(df['fare'].mean())\n",
    "\n",
    "df['age'] = df['age'].fillna(df['age'].mean())\n",
    "\n",
    "df['boat'] = df['boat'].fillna(0)\n",
    "df['boat'] = pd.factorize(df['boat'])[0]\n",
    "\n",
    "df['body'] = df['body'].fillna(df['body'].mean())\n",
    "\n",
    "df.head()"
   ]
  },
  {
   "cell_type": "code",
   "execution_count": 3,
   "metadata": {},
   "outputs": [
    {
     "name": "stdout",
     "output_type": "stream",
     "text": [
      "(1309, 1)\n",
      "(1309, 9)\n"
     ]
    }
   ],
   "source": [
    "Y = np.array(df.iloc[:, 1:2])\n",
    "print(Y.shape)\n",
    "X = np.array(df.iloc[:, 2:])\n",
    "print(X.shape)"
   ]
  },
  {
   "cell_type": "code",
   "execution_count": 4,
   "metadata": {},
   "outputs": [],
   "source": [
    "model = NLayerNetwork(X, Y, [9, 5, 3, 1], learning_rate=0.001, iterations=200000)"
   ]
  },
  {
   "cell_type": "code",
   "execution_count": 5,
   "metadata": {},
   "outputs": [
    {
     "name": "stdout",
     "output_type": "stream",
     "text": [
      "Cost after iteration 0: 0.6931462658352523\n",
      "Cost after iteration 10000: 0.2293737176884488\n",
      "Cost after iteration 20000: 0.1846795224924257\n",
      "Cost after iteration 30000: 0.28396438110851224\n",
      "Cost after iteration 40000: 0.20079450045890698\n",
      "Cost after iteration 50000: 0.17044892976723747\n",
      "Cost after iteration 60000: 0.16490053541617453\n",
      "Cost after iteration 70000: 0.16311929661314703\n",
      "Cost after iteration 80000: 0.16565531170591852\n",
      "Cost after iteration 90000: 0.18262255800944344\n",
      "Cost after iteration 100000: 0.27911307469644486\n",
      "Cost after iteration 110000: 0.1805024566724443\n",
      "Cost after iteration 120000: 0.1616224508071373\n",
      "Cost after iteration 130000: 0.20724330897195692\n"
     ]
    }
   ],
   "source": [
    "model.fit()"
   ]
  }
 ],
 "metadata": {
  "kernelspec": {
   "display_name": "Python 3",
   "language": "python",
   "name": "python3"
  },
  "language_info": {
   "codemirror_mode": {
    "name": "ipython",
    "version": 3
   },
   "file_extension": ".py",
   "mimetype": "text/x-python",
   "name": "python",
   "nbconvert_exporter": "python",
   "pygments_lexer": "ipython3",
   "version": "3.8.10"
  },
  "orig_nbformat": 4
 },
 "nbformat": 4,
 "nbformat_minor": 2
}
