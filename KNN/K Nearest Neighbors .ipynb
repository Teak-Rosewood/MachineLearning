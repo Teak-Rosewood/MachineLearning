{
 "cells": [
  {
   "cell_type": "code",
   "execution_count": 1,
   "id": "2a8f34ae",
   "metadata": {},
   "outputs": [],
   "source": [
    "import pandas as pd\n",
    "import numpy as np\n",
    "from sklearn.model_selection import train_test_split"
   ]
  },
  {
   "cell_type": "code",
   "execution_count": 2,
   "id": "5b817fa6",
   "metadata": {},
   "outputs": [],
   "source": [
    "class KNNRegression:\n",
    "    def __init__ (self, X, Y, k):\n",
    "        self.k = k\n",
    "        self.X = X\n",
    "        self.Y = Y\n",
    "    \n",
    "    def EuclidieanDistance (self, x1):\n",
    "        if self.train == True:\n",
    "            self.x2 = self.X[self.idx]\n",
    "        else: \n",
    "            self.x2 = self.x_test\n",
    "        distance = np.sqrt(np.sum(np.square(x1-self.x2)))\n",
    "        return distance\n",
    "    \n",
    "    def calc_neighbors(self):\n",
    "        costs = np.apply_along_axis(self.EuclidieanDistance, 1, self.X)\n",
    "        sorted_costs = np.sort(costs)\n",
    "        indices = np.where(costs <= sorted_costs[self.k-1])[0]\n",
    "        return indices\n",
    "    \n",
    "    def predictions(self, indices):\n",
    "        prediction = float(0)\n",
    "        for i in indices:\n",
    "            prediction += self.Y[i]\n",
    "        prediction = prediction / indices.shape\n",
    "        return float(prediction)\n",
    "    \n",
    "    def predict(self, x):\n",
    "        self.train = False\n",
    "        self.x_test = x\n",
    "        indices =  self.calc_neighbors()\n",
    "        print(indices)\n",
    "        return self.predictions(indices)\n",
    "    \n",
    "    def accuracy(self, x_test_set, y_test_set):\n",
    "        y_pred = []\n",
    "        for i in  range(x_test_set.shape[0]):\n",
    "            self.train = False\n",
    "            self.x_test = x_test_set[i]\n",
    "            indices =  self.calc_neighbors()\n",
    "            y_pred.append(self.predictions(indices))\n",
    "        ssr = np.sum((y_pred - y_test_set)**2)\n",
    "        sst = np.sum((y_test_set - y_test_set.mean())**2)\n",
    "        self.r2_score = 1 - (ssr/sst)\n",
    "        return self.r2_score\n",
    "        \n",
    "    def propogate(self):\n",
    "        y_pred = []\n",
    "        self.train = True\n",
    "        for i in range(self.X.shape[0]):\n",
    "            self.idx = i\n",
    "            indices =  self.calc_neighbors()\n",
    "            y_pred.append(self.predictions(indices))\n",
    "        print(\"Model Trained\")"
   ]
  },
  {
   "cell_type": "code",
   "execution_count": 3,
   "id": "cc0d3dc7",
   "metadata": {},
   "outputs": [
    {
     "name": "stdout",
     "output_type": "stream",
     "text": [
      "(3, 3) (3,)\n",
      "Model Trained\n",
      "(2, 3) (2, 1)\n"
     ]
    },
    {
     "data": {
      "text/plain": [
       "-1.08"
      ]
     },
     "execution_count": 3,
     "metadata": {},
     "output_type": "execute_result"
    }
   ],
   "source": [
    "a = np.array([[1, 1, 1], [3, 3, 3], [2, 2, 2]])\n",
    "\n",
    "b = np.array([1, 3, 2])\n",
    "print(a.shape, b.shape)\n",
    "a = KNNRegression(a, b, 2)\n",
    "a.propogate()\n",
    "temp_1 = np.array([[3.1, 3.1, 3.1], [2.1, 2.1, 2.1]])\n",
    "temp_2 = np.array([[3.1], [2.1]])\n",
    "print(temp_1.shape, temp_2.shape)\n",
    "a.accuracy(np.array([[3.1, 3.1, 3.1], [2.1, 2.1, 2.1]]), np.array([[3.1], [2.1]]))"
   ]
  },
  {
   "cell_type": "code",
   "execution_count": 4,
   "id": "bf4e93a1",
   "metadata": {},
   "outputs": [
    {
     "name": "stdout",
     "output_type": "stream",
     "text": [
      "[0 2]\n"
     ]
    },
    {
     "data": {
      "text/plain": [
       "1.5"
      ]
     },
     "execution_count": 4,
     "metadata": {},
     "output_type": "execute_result"
    }
   ],
   "source": [
    "a.predict([1, 2, 2])"
   ]
  },
  {
   "cell_type": "code",
   "execution_count": 5,
   "id": "88b45b74",
   "metadata": {},
   "outputs": [
    {
     "data": {
      "text/html": [
       "<div>\n",
       "<style scoped>\n",
       "    .dataframe tbody tr th:only-of-type {\n",
       "        vertical-align: middle;\n",
       "    }\n",
       "\n",
       "    .dataframe tbody tr th {\n",
       "        vertical-align: top;\n",
       "    }\n",
       "\n",
       "    .dataframe thead th {\n",
       "        text-align: right;\n",
       "    }\n",
       "</style>\n",
       "<table border=\"1\" class=\"dataframe\">\n",
       "  <thead>\n",
       "    <tr style=\"text-align: right;\">\n",
       "      <th></th>\n",
       "      <th>pclass</th>\n",
       "      <th>survived</th>\n",
       "      <th>sex</th>\n",
       "      <th>age</th>\n",
       "      <th>sibsp</th>\n",
       "      <th>parch</th>\n",
       "      <th>fare</th>\n",
       "      <th>cabin</th>\n",
       "      <th>embarked</th>\n",
       "      <th>boat</th>\n",
       "      <th>body</th>\n",
       "    </tr>\n",
       "  </thead>\n",
       "  <tbody>\n",
       "    <tr>\n",
       "      <th>0</th>\n",
       "      <td>1</td>\n",
       "      <td>1</td>\n",
       "      <td>0</td>\n",
       "      <td>29.0000</td>\n",
       "      <td>0</td>\n",
       "      <td>0</td>\n",
       "      <td>211.3375</td>\n",
       "      <td>0</td>\n",
       "      <td>0</td>\n",
       "      <td>0</td>\n",
       "      <td>160.809917</td>\n",
       "    </tr>\n",
       "    <tr>\n",
       "      <th>1</th>\n",
       "      <td>1</td>\n",
       "      <td>1</td>\n",
       "      <td>1</td>\n",
       "      <td>0.9167</td>\n",
       "      <td>1</td>\n",
       "      <td>2</td>\n",
       "      <td>151.5500</td>\n",
       "      <td>1</td>\n",
       "      <td>0</td>\n",
       "      <td>1</td>\n",
       "      <td>160.809917</td>\n",
       "    </tr>\n",
       "    <tr>\n",
       "      <th>2</th>\n",
       "      <td>1</td>\n",
       "      <td>0</td>\n",
       "      <td>0</td>\n",
       "      <td>2.0000</td>\n",
       "      <td>1</td>\n",
       "      <td>2</td>\n",
       "      <td>151.5500</td>\n",
       "      <td>1</td>\n",
       "      <td>0</td>\n",
       "      <td>2</td>\n",
       "      <td>160.809917</td>\n",
       "    </tr>\n",
       "    <tr>\n",
       "      <th>3</th>\n",
       "      <td>1</td>\n",
       "      <td>0</td>\n",
       "      <td>1</td>\n",
       "      <td>30.0000</td>\n",
       "      <td>1</td>\n",
       "      <td>2</td>\n",
       "      <td>151.5500</td>\n",
       "      <td>1</td>\n",
       "      <td>0</td>\n",
       "      <td>2</td>\n",
       "      <td>135.000000</td>\n",
       "    </tr>\n",
       "    <tr>\n",
       "      <th>4</th>\n",
       "      <td>1</td>\n",
       "      <td>0</td>\n",
       "      <td>0</td>\n",
       "      <td>25.0000</td>\n",
       "      <td>1</td>\n",
       "      <td>2</td>\n",
       "      <td>151.5500</td>\n",
       "      <td>1</td>\n",
       "      <td>0</td>\n",
       "      <td>2</td>\n",
       "      <td>160.809917</td>\n",
       "    </tr>\n",
       "  </tbody>\n",
       "</table>\n",
       "</div>"
      ],
      "text/plain": [
       "   pclass  survived  sex      age  sibsp  parch      fare  cabin  embarked  \\\n",
       "0       1         1    0  29.0000      0      0  211.3375      0         0   \n",
       "1       1         1    1   0.9167      1      2  151.5500      1         0   \n",
       "2       1         0    0   2.0000      1      2  151.5500      1         0   \n",
       "3       1         0    1  30.0000      1      2  151.5500      1         0   \n",
       "4       1         0    0  25.0000      1      2  151.5500      1         0   \n",
       "\n",
       "   boat        body  \n",
       "0     0  160.809917  \n",
       "1     1  160.809917  \n",
       "2     2  160.809917  \n",
       "3     2  135.000000  \n",
       "4     2  160.809917  "
      ]
     },
     "execution_count": 5,
     "metadata": {},
     "output_type": "execute_result"
    }
   ],
   "source": [
    "# data preprocessing\n",
    "\n",
    "df = pd.read_excel('titanic.xls')\n",
    "columns_to_drop = ['name','ticket', 'home.dest']\n",
    "df = df.drop(columns_to_drop, axis=1)\n",
    "\n",
    "df['embarked'] = pd.factorize(df['embarked'])[0]\n",
    "\n",
    "df['cabin'] = df['cabin'].fillna(df['cabin'].mode())\n",
    "df['cabin'] = pd.factorize(df['cabin'])[0]\n",
    "\n",
    "df['sex'].value_counts(dropna=False)\n",
    "df['sex'] = df['sex'].map(lambda x: 1 if x == 'male' else 0)\n",
    "df['sex'].value_counts()\n",
    "\n",
    "df['fare'] = df['fare'].fillna(df['fare'].mean())\n",
    "\n",
    "df['age'] = df['age'].fillna(df['age'].mean())\n",
    "\n",
    "df['boat'] = df['boat'].fillna(0)\n",
    "df['boat'] = pd.factorize(df['boat'])[0]\n",
    "\n",
    "df['body'] = df['body'].fillna(df['body'].mean())\n",
    "\n",
    "df.head()"
   ]
  },
  {
   "cell_type": "code",
   "execution_count": 6,
   "id": "368af2ef",
   "metadata": {},
   "outputs": [
    {
     "name": "stdout",
     "output_type": "stream",
     "text": [
      "(1309, 1)\n",
      "(1309, 9)\n"
     ]
    }
   ],
   "source": [
    "Y = np.array(df.iloc[:, 1:2])\n",
    "print(Y.shape)\n",
    "X = np.array(df.iloc[:, 2:])\n",
    "print(X.shape)"
   ]
  },
  {
   "cell_type": "code",
   "execution_count": 7,
   "id": "4999a528",
   "metadata": {},
   "outputs": [
    {
     "name": "stdout",
     "output_type": "stream",
     "text": [
      "(1309, 9) (1, 1309)\n"
     ]
    }
   ],
   "source": [
    "# standardization\n",
    "X = X/ np.linalg.norm(X)\n",
    "Y = Y.T\n",
    "print(X.shape, Y.shape)"
   ]
  },
  {
   "cell_type": "code",
   "execution_count": 8,
   "id": "a4c709be",
   "metadata": {},
   "outputs": [
    {
     "name": "stdout",
     "output_type": "stream",
     "text": [
      "(9, 877) (9, 432) (1, 877) (1, 432)\n"
     ]
    }
   ],
   "source": [
    "def split_data(X, Y, test_size=0.33, random_state=42):\n",
    "    x_train, x_test, y_train, y_test = train_test_split(X, Y, test_size = test_size, random_state = 42)\n",
    "    x_train = np.array(x_train.T)\n",
    "    x_test = np.array(x_test.T)\n",
    "    y_train = np.array(y_train.T)\n",
    "    y_test = np.array(y_test.T)\n",
    "    return x_train, x_test, y_train, y_test\n",
    "\n",
    "x_train, x_test, y_train, y_test  = split_data(X, Y.T)\n",
    "print(x_train.shape, x_test.shape, y_train.shape, y_test.shape)\n"
   ]
  },
  {
   "cell_type": "code",
   "execution_count": 9,
   "id": "4e51d53b",
   "metadata": {},
   "outputs": [
    {
     "name": "stdout",
     "output_type": "stream",
     "text": [
      "Model Trained\n"
     ]
    },
    {
     "data": {
      "text/plain": [
       "-12.507497957584913"
      ]
     },
     "execution_count": 9,
     "metadata": {},
     "output_type": "execute_result"
    }
   ],
   "source": [
    "model = KNNRegression(x_train, y_train.T, 5)\n",
    "model.propogate()\n",
    "model.accuracy(x_train, y_train.T)"
   ]
  }
 ],
 "metadata": {
  "kernelspec": {
   "display_name": "Python 3",
   "language": "python",
   "name": "python3"
  },
  "language_info": {
   "codemirror_mode": {
    "name": "ipython",
    "version": 3
   },
   "file_extension": ".py",
   "mimetype": "text/x-python",
   "name": "python",
   "nbconvert_exporter": "python",
   "pygments_lexer": "ipython3",
   "version": "3.9.13"
  },
  "vscode": {
   "interpreter": {
    "hash": "8e284ee3255a07ad8bf76694974743c4c81cb57e7c969474d752d949b11d721e"
   }
  }
 },
 "nbformat": 4,
 "nbformat_minor": 5
}
