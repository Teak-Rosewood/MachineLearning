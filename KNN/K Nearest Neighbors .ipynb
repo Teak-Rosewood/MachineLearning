{
 "cells": [
  {
   "cell_type": "code",
   "execution_count": 28,
   "id": "2a8f34ae",
   "metadata": {},
   "outputs": [],
   "source": [
    "import pandas as pd\n",
    "import numpy as np\n",
    "from sklearn.model_selection import train_test_split"
   ]
  },
  {
   "cell_type": "code",
   "execution_count": 191,
   "id": "5b817fa6",
   "metadata": {},
   "outputs": [],
   "source": [
    "class KNNRegression:\n",
    "    def __init__ (self, X, Y, k):\n",
    "        self.k = k\n",
    "        self.X = X\n",
    "        self.Y = Y\n",
    "    \n",
    "    def EuclidieanDistance (self, x1):\n",
    "        if self.train == True:\n",
    "            self.x2 = self.X[self.idx]\n",
    "        else: \n",
    "            self.x2 = self.x_test\n",
    "        distance = np.sqrt(np.sum(np.square(x1-self.x2)))\n",
    "        return distance\n",
    "    \n",
    "    def calc_neighbors(self):\n",
    "        costs = np.apply_along_axis(self.EuclidieanDistance, 1, self.X)\n",
    "        sorted_costs = np.sort(costs)\n",
    "        indices = np.where(costs <= sorted_costs[self.k-1])[0]\n",
    "        return indices\n",
    "    \n",
    "    def predictions(self, indices):\n",
    "        prediction = float(0)\n",
    "        for i in indices:\n",
    "            prediction += self.Y[i]\n",
    "        prediction = prediction / indices.shape\n",
    "        return float(prediction)\n",
    "    \n",
    "    def predict(self, x):\n",
    "        self.train = False\n",
    "        self.x_test = x\n",
    "        indices =  self.calc_neighbors()\n",
    "        print(indices)\n",
    "        return self.predictions(indices)\n",
    "    \n",
    "    def accuracy(self, x_test_set, y_test_set):\n",
    "        y_pred = []\n",
    "        for i in  range(x_test_set.shape[0]):\n",
    "            self.train = False\n",
    "            self.x_test = x_test_set[i]\n",
    "            indices =  self.calc_neighbors()\n",
    "            y_pred.append(self.predictions(indices))\n",
    "        ssr = np.sum((y_pred - y_test_set)**2)\n",
    "        sst = np.sum((y_test_set - y_test_set.mean())**2)\n",
    "        print(ssr, sst)\n",
    "        self.r2_score = 1 - (ssr/sst)\n",
    "        return self.r2_score\n",
    "        \n",
    "    def propogate(self):\n",
    "        y_pred = []\n",
    "        self.train = True\n",
    "        for i in range(self.X.shape[0]):\n",
    "            self.idx = i\n",
    "            indices =  self.calc_neighbors()\n",
    "            y_pred.append(self.predictions(indices))\n",
    "        print(\"Model Trained\")"
   ]
  },
  {
   "cell_type": "code",
   "execution_count": 195,
   "id": "cc0d3dc7",
   "metadata": {},
   "outputs": [
    {
     "name": "stdout",
     "output_type": "stream",
     "text": [
      "Model Trained\n",
      "1.04 0.5\n"
     ]
    },
    {
     "data": {
      "text/plain": [
       "-1.08"
      ]
     },
     "execution_count": 195,
     "metadata": {},
     "output_type": "execute_result"
    }
   ],
   "source": [
    "a = np.array([[1, 1, 1], [3, 3, 3], [2, 2, 2]])\n",
    "b = np.array([1, 3, 2])\n",
    "a = KNNRegression(a, b, 2)\n",
    "a.propogate()\n",
    "a.accuracy(np.array([[3.1, 3.1, 3.1], [2.1, 2.1, 2.1]]), np.array([[3.1], [2.1]]))"
   ]
  },
  {
   "cell_type": "code",
   "execution_count": 196,
   "id": "bf4e93a1",
   "metadata": {},
   "outputs": [
    {
     "name": "stdout",
     "output_type": "stream",
     "text": [
      "[0 2]\n"
     ]
    },
    {
     "data": {
      "text/plain": [
       "1.5"
      ]
     },
     "execution_count": 196,
     "metadata": {},
     "output_type": "execute_result"
    }
   ],
   "source": [
    "a.predict([1, 2, 2])"
   ]
  },
  {
   "cell_type": "code",
   "execution_count": null,
   "id": "ea262afd",
   "metadata": {},
   "outputs": [],
   "source": [
    "class KNNClassification:\n",
    "    def __init__ (self, X, Y, k):\n",
    "        self.k = k\n",
    "        self.X = X\n",
    "        self.Y = Y\n",
    "    \n",
    "    def EuclidieanDistance(self, x1):\n",
    "        x2 = self.X[self.idx]\n",
    "        distance = np.sqrt(np.sum(np.square(x1-x2)))\n",
    "        return distance\n",
    "    \n",
    "    def calc_neighbors(self):\n",
    "        costs = np.apply_along_axis(self.EuclidieanDistance, 1, self.X)\n",
    "        sorted_costs = np.sort(costs)\n",
    "        indices = np.where(costs <= sorted_costs[self.k-1])[0]\n",
    "        return indices\n",
    "    \n",
    "    def predict(self, indices):\n",
    "        prediction = float(0)\n",
    "        for i in indices:\n",
    "            prediction += self.Y[i]\n",
    "        prediction = prediction / indices.shape\n",
    "        return float(prediction)\n",
    "    \n",
    "    def propogate(self):\n",
    "        y_pred = []\n",
    "        for i in range(self.X.shape[0]):\n",
    "            self.idx = i\n",
    "            indices =  self.calc_neighbors()\n",
    "            y_pred.append(self.predict(indices))\n",
    "            print(y_pred)"
   ]
  }
 ],
 "metadata": {
  "kernelspec": {
   "display_name": "Python 3 (ipykernel)",
   "language": "python",
   "name": "python3"
  },
  "language_info": {
   "codemirror_mode": {
    "name": "ipython",
    "version": 3
   },
   "file_extension": ".py",
   "mimetype": "text/x-python",
   "name": "python",
   "nbconvert_exporter": "python",
   "pygments_lexer": "ipython3",
   "version": "3.9.13"
  }
 },
 "nbformat": 4,
 "nbformat_minor": 5
}
